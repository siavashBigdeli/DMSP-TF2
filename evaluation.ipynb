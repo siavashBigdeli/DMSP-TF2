{
 "cells": [
  {
   "cell_type": "code",
   "execution_count": null,
   "metadata": {},
   "outputs": [],
   "source": [
    "# Setting up DMSP algorithms params\n",
    "\n",
    "# Loading the denoiser network\n",
    "\n",
    "# Limit the GPU access\n",
    "import os\n",
    "os.environ[\"CUDA_VISIBLE_DEVICES\"]=\"0\"\n",
    "\n",
    "import tensorflow as tf\n",
    "# Loading the model\n",
    "DAE = tf.saved_model.load('DAE')\n",
    "\n",
    "# setting DMSP parameterss\n",
    "params = {}\n",
    "params['denoiser'] = DAE\n",
    "params['sigma_dae'] = 11.0\n",
    "params['num_iter'] = 300\n",
    "params['mu'] = 0.9\n",
    "params['alpha'] = 0.1\n"
   ]
  },
  {
   "cell_type": "code",
   "execution_count": null,
   "metadata": {},
   "outputs": [],
   "source": [
    "# Setting dataset information\n",
    "\n",
    "from os import walk\n",
    "from os.path import join\n",
    "\n",
    "dataset_name = 'Set14'\n",
    "data_folder = 'data/Benchmark datasets/' + dataset_name\n",
    "\n",
    "file_paths = []\n",
    "for (dirpath, dirnames, filenames) in walk(data_folder):\n",
    "    file_paths.extend(filenames)\n",
    "    break"
   ]
  },
  {
   "cell_type": "code",
   "execution_count": null,
   "metadata": {},
   "outputs": [],
   "source": [
    "import numpy as np\n",
    "from DMSPRestore import filter_image\n",
    "from PIL import Image\n",
    "\n",
    "from DMSPRestore import pad_image\n",
    "from DMSPRestore import DMSP_restore, pad_image_rm\n",
    "\n",
    "k_nanmes = ['k_1', 'k_2', 'k_3', 'k_4', 'k_5', 'k_6', 'k_7', 'k_8']"
   ]
  },
  {
   "cell_type": "code",
   "execution_count": null,
   "metadata": {
    "scrolled": true
   },
   "outputs": [],
   "source": [
    "# running experiments\n",
    "\n",
    "for downsampling_rate in [2,4]:\n",
    "    for sigma_d in [0.0]:\n",
    "        for kernel_name in k_nanmes:\n",
    "            # kernel size seems to be set to 15x15 in the experiments\n",
    "            kernel = np.array(Image.open('data/'+kernel_name+'.png'), dtype='float32')[5:-5,5:-5,0]\n",
    "            kernel = kernel / np.sum(kernel[:])\n",
    "\n",
    "            out_folder = 'data/results/' + dataset_name + '_' + kernel_name + '_' + str(downsampling_rate) + '_' + str(sigma_d)\n",
    "            if not os.path.exists(out_folder):\n",
    "                os.makedirs(out_folder)\n",
    "\n",
    "            def get_degraded_image(gt):\n",
    "                degraded = filter_image(gt, kernel)\n",
    "                noise = np.random.normal(0.0, sigma_d, degraded.shape).astype(np.float32)\n",
    "                subsampling_mask = np.zeros(degraded.shape)\n",
    "                subsampling_mask[::downsampling_rate,::downsampling_rate] = 1\n",
    "                degraded = subsampling_mask*(degraded + noise)\n",
    "                return degraded, subsampling_mask\n",
    "\n",
    "\n",
    "            for fn in file_paths:\n",
    "                gt = np.array(Image.open(join(data_folder, fn)), dtype='float32')\n",
    "                gt = pad_image(gt, kernel.shape)\n",
    "                degraded, subsampling_mask = get_degraded_image(gt)\n",
    "\n",
    "                print(fn)\n",
    "\n",
    "                restored = DMSP_restore(degraded=degraded,\n",
    "                                        kernel=kernel,\n",
    "                                        subsampling_mask=subsampling_mask,\n",
    "                                        sigma_d=sigma_d,\n",
    "                                        params=params)\n",
    "\n",
    "                restored = pad_image_rm(restored, kernel.shape)\n",
    "\n",
    "                # saving results\n",
    "                img_restored = Image.fromarray(np.clip(restored, 0, 255).astype(dtype=np.uint8))\n",
    "                img_restored.save(join(out_folder, fn),\"png\")\n"
   ]
  },
  {
   "cell_type": "code",
   "execution_count": null,
   "metadata": {
    "scrolled": true
   },
   "outputs": [],
   "source": [
    "# Evaluate and print the results (PSNR; SSIM) per each kernel\n",
    "\n",
    "from os import walk\n",
    "from os.path import join\n",
    "from DMSPRestore import compute_PSNR_pad, compute_SSIM_pad\n",
    "\n",
    "sigma_d = 0.0\n",
    "downsampling_rate = 4\n",
    "for kernel_name in k_nanmes:\n",
    "    out_folder = 'data/results/' + dataset_name + '_' + kernel_name + '_' + str(downsampling_rate) + '_' + str(sigma_d)\n",
    "    psnrs = []\n",
    "    ssims = []\n",
    "    for fn in file_paths:\n",
    "\n",
    "        gt = np.array(Image.open(join(data_folder, fn)), dtype='float32')\n",
    "        rs = np.array(Image.open(join(out_folder, fn)), dtype='float32')\n",
    "\n",
    "        psnrs += [compute_PSNR_pad(gt, rs, downsampling_rate, downsampling_rate)]\n",
    "        ssims += [compute_SSIM_pad(gt, rs, downsampling_rate, downsampling_rate)]\n",
    "\n",
    "    print(np.array(psnrs).mean())\n",
    "    print(np.array(ssims).mean())"
   ]
  }
 ],
 "metadata": {
  "kernelspec": {
   "display_name": "Python 3",
   "language": "python",
   "name": "python3"
  },
  "language_info": {
   "codemirror_mode": {
    "name": "ipython",
    "version": 3
   },
   "file_extension": ".py",
   "mimetype": "text/x-python",
   "name": "python",
   "nbconvert_exporter": "python",
   "pygments_lexer": "ipython3",
   "version": "3.8.3"
  }
 },
 "nbformat": 4,
 "nbformat_minor": 4
}
